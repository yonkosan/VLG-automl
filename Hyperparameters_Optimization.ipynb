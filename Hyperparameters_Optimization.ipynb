{
 "cells": [
  {
   "cell_type": "code",
   "execution_count": 1,
   "metadata": {
    "id": "ZRTwWCi6k_cu"
   },
   "outputs": [],
   "source": [
    "import pandas as pd\n",
    "import numpy as np\n",
    "\n",
    "from sklearn import ensemble\n",
    "from sklearn import metrics\n",
    "from sklearn import model_selection\n",
    "from sklearn import preprocessing\n",
    "from sklearn import decomposition\n",
    "from sklearn import pipeline"
   ]
  },
  {
   "cell_type": "code",
   "execution_count": 2,
   "metadata": {
    "colab": {
     "base_uri": "https://localhost:8080/"
    },
    "id": "LP8OZh9wk_cz",
    "outputId": "b70eb01b-be78-4d6e-f26f-d4316719f5b2"
   },
   "outputs": [
    {
     "name": "stdout",
     "output_type": "stream",
     "text": [
      "<class 'pandas.core.frame.DataFrame'>\n",
      "RangeIndex: 2000 entries, 0 to 1999\n",
      "Data columns (total 21 columns):\n",
      " #   Column         Non-Null Count  Dtype  \n",
      "---  ------         --------------  -----  \n",
      " 0   battery_power  2000 non-null   int64  \n",
      " 1   blue           2000 non-null   int64  \n",
      " 2   clock_speed    2000 non-null   float64\n",
      " 3   dual_sim       2000 non-null   int64  \n",
      " 4   fc             2000 non-null   int64  \n",
      " 5   four_g         2000 non-null   int64  \n",
      " 6   int_memory     2000 non-null   int64  \n",
      " 7   m_dep          2000 non-null   float64\n",
      " 8   mobile_wt      2000 non-null   int64  \n",
      " 9   n_cores        2000 non-null   int64  \n",
      " 10  pc             2000 non-null   int64  \n",
      " 11  px_height      2000 non-null   int64  \n",
      " 12  px_width       2000 non-null   int64  \n",
      " 13  ram            2000 non-null   int64  \n",
      " 14  sc_h           2000 non-null   int64  \n",
      " 15  sc_w           2000 non-null   int64  \n",
      " 16  talk_time      2000 non-null   int64  \n",
      " 17  three_g        2000 non-null   int64  \n",
      " 18  touch_screen   2000 non-null   int64  \n",
      " 19  wifi           2000 non-null   int64  \n",
      " 20  price_range    2000 non-null   int64  \n",
      "dtypes: float64(2), int64(19)\n",
      "memory usage: 328.3 KB\n",
      "None\n"
     ]
    }
   ],
   "source": [
    "df = pd.read_csv('phone_price_classification.csv')\n",
    "print(df.info())"
   ]
  },
  {
   "cell_type": "code",
   "execution_count": 3,
   "metadata": {
    "id": "OUYscmqMk_c0"
   },
   "outputs": [],
   "source": [
    "X  = df.drop('price_range', axis = 1).values\n",
    "y  = df['price_range'].values"
   ]
  },
  {
   "cell_type": "markdown",
   "metadata": {
    "id": "pw2wyFObk_c1"
   },
   "source": [
    "# Bayesian optimization"
   ]
  },
  {
   "cell_type": "code",
   "execution_count": 4,
   "metadata": {
    "id": "i3RUric7k_c1"
   },
   "outputs": [],
   "source": [
    "def optimize(parameters, parameters_names, x, y, list_of_all_parameters):\n",
    "    print(parameters, parameters_names)\n",
    "    list_of_all_parameters.append(parameters)\n",
    "    parameters = dict(zip(parameters_names, parameters)) \n",
    "    model  = ensemble.RandomForestClassifier(**parameters) \n",
    "    kf     = model_selection.StratifiedKFold(n_splits = 5)\n",
    "\n",
    "    accuracies = []\n",
    "    for id in kf.split(X=x, y=y):\n",
    "        train_id, test_id = id[0], id[1]\n",
    "\n",
    "        xtrain = x[train_id]\n",
    "        ytrain = y[train_id]\n",
    "        xtest = x[test_id]\n",
    "        ytest = y[test_id]\n",
    "\n",
    "        model.fit(xtrain, ytrain)\n",
    "        predict = model.predict(xtest)\n",
    "        fold_acc = metrics.accuracy_score(ytest, predict)\n",
    "\n",
    "        accuracies.append(fold_acc)\n",
    "\n",
    "    return -1*np.mean(accuracies)"
   ]
  },
  {
   "cell_type": "code",
   "execution_count": 5,
   "metadata": {
    "id": "z5RXctMamO_o"
   },
   "outputs": [],
   "source": [
    "from functools import partial\n",
    "from skopt import space\n",
    "from skopt import gp_minimize"
   ]
  },
  {
   "cell_type": "code",
   "execution_count": 6,
   "metadata": {
    "id": "9hYY25egk_c2"
   },
   "outputs": [],
   "source": [
    "parameters_space = [\n",
    "    space.Integer(3, 20, name=\"max_depth\"),\n",
    "    space.Integer(200, 600, name=\"n_estimators\"),\n",
    "    space.Categorical([\"entropy\", \"gini\"], name=\"criterion\"), #In case of regression tasks use MSE or MAE for criterion\n",
    "    space.Real(0.01, 1, prior = \"uniform\", name=\"max_features\")\n",
    "]"
   ]
  },
  {
   "cell_type": "code",
   "execution_count": 7,
   "metadata": {
    "colab": {
     "base_uri": "https://localhost:8080/"
    },
    "id": "0insaWt4k_c3",
    "outputId": "7df4cc05-855c-4993-f31e-79e171255d8c"
   },
   "outputs": [
    {
     "data": {
      "text/plain": [
       "['max_depth', 'n_estimators', 'criterion', 'max_features']"
      ]
     },
     "execution_count": 7,
     "metadata": {},
     "output_type": "execute_result"
    }
   ],
   "source": [
    "parameters_names  = [\"max_depth\", \"n_estimators\", \"criterion\", \"max_features\" ]\n",
    "parameters_names"
   ]
  },
  {
   "cell_type": "code",
   "execution_count": 8,
   "metadata": {
    "id": "hsbZEKuVk_c3"
   },
   "outputs": [],
   "source": [
    "list_of_all_parameters = []\n",
    "optimization_func = partial(optimize, parameters_names = parameters_names, x = X, y = y, list_of_all_parameters = list_of_all_parameters)"
   ]
  },
  {
   "cell_type": "code",
   "execution_count": 9,
   "metadata": {
    "colab": {
     "base_uri": "https://localhost:8080/"
    },
    "id": "3ujCzLQOk_c4",
    "outputId": "e01cf133-3288-4766-9494-aed7f6c6f8d8"
   },
   "outputs": [
    {
     "name": "stdout",
     "output_type": "stream",
     "text": [
      "Iteration No: 1 started. Evaluating function at random point.\n",
      "[8, 584, 'gini', 0.030415462487492835] ['max_depth', 'n_estimators', 'criterion', 'max_features']\n",
      "Iteration No: 1 ended. Evaluation done at random point.\n",
      "Time taken: 3.5126\n",
      "Function value obtained: -0.7780\n",
      "Current minimum: -0.7780\n",
      "Iteration No: 2 started. Evaluating function at random point.\n",
      "[15, 427, 'gini', 0.1525781343834144] ['max_depth', 'n_estimators', 'criterion', 'max_features']\n",
      "Iteration No: 2 ended. Evaluation done at random point.\n",
      "Time taken: 5.3219\n",
      "Function value obtained: -0.8700\n",
      "Current minimum: -0.8700\n",
      "Iteration No: 3 started. Evaluating function at random point.\n",
      "[4, 365, 'gini', 0.1536334514732058] ['max_depth', 'n_estimators', 'criterion', 'max_features']\n",
      "Iteration No: 3 ended. Evaluation done at random point.\n",
      "Time taken: 2.5026\n",
      "Function value obtained: -0.8140\n",
      "Current minimum: -0.8700\n",
      "Iteration No: 4 started. Evaluating function at random point.\n",
      "[20, 395, 'entropy', 0.8643821005257634] ['max_depth', 'n_estimators', 'criterion', 'max_features']\n",
      "Iteration No: 4 ended. Evaluation done at random point.\n",
      "Time taken: 13.8318\n",
      "Function value obtained: -0.9100\n",
      "Current minimum: -0.9100\n",
      "Iteration No: 5 started. Evaluating function at random point.\n",
      "[5, 499, 'entropy', 0.9665819179726965] ['max_depth', 'n_estimators', 'criterion', 'max_features']\n",
      "Iteration No: 5 ended. Evaluation done at random point.\n",
      "Time taken: 15.0363\n",
      "Function value obtained: -0.8785\n",
      "Current minimum: -0.9100\n",
      "Iteration No: 6 started. Evaluating function at random point.\n",
      "[9, 329, 'gini', 0.5093007319774084] ['max_depth', 'n_estimators', 'criterion', 'max_features']\n",
      "Iteration No: 6 ended. Evaluation done at random point.\n",
      "Time taken: 6.5870\n",
      "Function value obtained: -0.9005\n",
      "Current minimum: -0.9100\n",
      "Iteration No: 7 started. Evaluating function at random point.\n",
      "[19, 275, 'entropy', 0.8584681038110599] ['max_depth', 'n_estimators', 'criterion', 'max_features']\n",
      "Iteration No: 7 ended. Evaluation done at random point.\n",
      "Time taken: 9.7200\n",
      "Function value obtained: -0.9050\n",
      "Current minimum: -0.9100\n",
      "Iteration No: 8 started. Evaluating function at random point.\n",
      "[16, 503, 'gini', 0.4171328141512621] ['max_depth', 'n_estimators', 'criterion', 'max_features']\n",
      "Iteration No: 8 ended. Evaluation done at random point.\n",
      "Time taken: 9.9074\n",
      "Function value obtained: -0.9000\n",
      "Current minimum: -0.9100\n",
      "Iteration No: 9 started. Evaluating function at random point.\n",
      "[10, 513, 'entropy', 0.5611646845802827] ['max_depth', 'n_estimators', 'criterion', 'max_features']\n",
      "Iteration No: 9 ended. Evaluation done at random point.\n",
      "Time taken: 15.4437\n",
      "Function value obtained: -0.9060\n",
      "Current minimum: -0.9100\n",
      "Iteration No: 10 started. Evaluating function at random point.\n",
      "[14, 407, 'entropy', 0.09545285053795477] ['max_depth', 'n_estimators', 'criterion', 'max_features']\n",
      "Iteration No: 10 ended. Evaluation done at random point.\n",
      "Time taken: 5.0325\n",
      "Function value obtained: -0.7660\n",
      "Current minimum: -0.9100\n",
      "Iteration No: 11 started. Searching for the next optimal point.\n",
      "[20, 411, 'gini', 0.6799490718931591] ['max_depth', 'n_estimators', 'criterion', 'max_features']\n",
      "Iteration No: 11 ended. Search finished for the next optimal point.\n",
      "Time taken: 10.6015\n",
      "Function value obtained: -0.9015\n",
      "Current minimum: -0.9100\n",
      "Iteration No: 12 started. Searching for the next optimal point.\n",
      "[20, 532, 'gini', 1.0] ['max_depth', 'n_estimators', 'criterion', 'max_features']\n",
      "Iteration No: 12 ended. Search finished for the next optimal point.\n",
      "Time taken: 19.8905\n",
      "Function value obtained: -0.8950\n",
      "Current minimum: -0.9100\n"
     ]
    }
   ],
   "source": [
    "result = gp_minimize(optimization_func, dimensions = parameters_space, n_calls = 12, n_random_starts = 10, verbose = 10)"
   ]
  },
  {
   "cell_type": "code",
   "execution_count": 10,
   "metadata": {
    "colab": {
     "base_uri": "https://localhost:8080/"
    },
    "id": "utKMDYHO89n9",
    "outputId": "0bad186a-807b-4413-c05c-a11ed486ce2d"
   },
   "outputs": [
    {
     "name": "stdout",
     "output_type": "stream",
     "text": [
      "[[8, 584, 'gini', 0.030415462487492835], [15, 427, 'gini', 0.1525781343834144], [4, 365, 'gini', 0.1536334514732058], [20, 395, 'entropy', 0.8643821005257634], [5, 499, 'entropy', 0.9665819179726965], [9, 329, 'gini', 0.5093007319774084], [19, 275, 'entropy', 0.8584681038110599], [16, 503, 'gini', 0.4171328141512621], [10, 513, 'entropy', 0.5611646845802827], [14, 407, 'entropy', 0.09545285053795477], [20, 411, 'gini', 0.6799490718931591], [20, 532, 'gini', 1.0]]\n",
      "12\n"
     ]
    }
   ],
   "source": [
    "print(list_of_all_parameters)\n",
    "print(len(list_of_all_parameters))"
   ]
  },
  {
   "cell_type": "code",
   "execution_count": 11,
   "metadata": {
    "id": "ZIdloyoazf2v"
   },
   "outputs": [
    {
     "name": "stdout",
     "output_type": "stream",
     "text": [
      "          fun: -0.9099999999999999\n",
      "            x: [20, 395, 'entropy', 0.8643821005257634]\n",
      "    func_vals: [-7.780e-01 -8.700e-01 -8.140e-01 -9.100e-01 -8.785e-01\n",
      "                -9.005e-01 -9.050e-01 -9.000e-01 -9.060e-01 -7.660e-01\n",
      "                -9.015e-01 -8.950e-01]\n",
      "      x_iters: [[8, 584, 'gini', 0.030415462487492835], [15, 427, 'gini', 0.1525781343834144], [4, 365, 'gini', 0.1536334514732058], [20, 395, 'entropy', 0.8643821005257634], [5, 499, 'entropy', 0.9665819179726965], [9, 329, 'gini', 0.5093007319774084], [19, 275, 'entropy', 0.8584681038110599], [16, 503, 'gini', 0.4171328141512621], [10, 513, 'entropy', 0.5611646845802827], [14, 407, 'entropy', 0.09545285053795477], [20, 411, 'gini', 0.6799490718931591], [20, 532, 'gini', 1.0]]\n",
      "       models: [GaussianProcessRegressor(kernel=1**2 * Matern(length_scale=[1, 1, 1, 1], nu=2.5) + WhiteKernel(noise_level=1),\n",
      "                                        n_restarts_optimizer=2, noise='gaussian',\n",
      "                                        normalize_y=True, random_state=1192578746), GaussianProcessRegressor(kernel=1**2 * Matern(length_scale=[1, 1, 1, 1], nu=2.5) + WhiteKernel(noise_level=1),\n",
      "                                        n_restarts_optimizer=2, noise='gaussian',\n",
      "                                        normalize_y=True, random_state=1192578746), GaussianProcessRegressor(kernel=1**2 * Matern(length_scale=[1, 1, 1, 1], nu=2.5) + WhiteKernel(noise_level=1),\n",
      "                                        n_restarts_optimizer=2, noise='gaussian',\n",
      "                                        normalize_y=True, random_state=1192578746)]\n",
      "        space: Space([Integer(low=3, high=20, prior='uniform', transform='normalize'),\n",
      "                      Integer(low=200, high=600, prior='uniform', transform='normalize'),\n",
      "                      Categorical(categories=('entropy', 'gini'), prior=None),\n",
      "                      Real(low=0.01, high=1, prior='uniform', transform='normalize')])\n",
      " random_state: RandomState(MT19937)\n",
      "        specs:     args:                    func: functools.partial(<function optimize at 0x000002503611ACA0>, parameters_names=['max_depth', 'n_estimators', 'criterion', 'max_features'], x=array([[ 8.420e+02,\n",
      "                                                           0.000e+00, ...,\n",
      "                                                           0.000e+00,\n",
      "                                                           1.000e+00],\n",
      "                                                         [ 1.021e+03,\n",
      "                                                           1.000e+00, ...,\n",
      "                                                           1.000e+00,\n",
      "                                                           0.000e+00],\n",
      "                                                         ...,\n",
      "                                                         [ 1.512e+03,\n",
      "                                                           0.000e+00, ...,\n",
      "                                                           1.000e+00,\n",
      "                                                           1.000e+00],\n",
      "                                                         [ 5.100e+02,\n",
      "                                                           1.000e+00, ...,\n",
      "                                                           1.000e+00,\n",
      "                                                           1.000e+00]]), y=array([1, 2, ..., 0, 3],\n",
      "                                                        dtype=int64), list_of_all_parameters=[[8, 584, 'gini', 0.030415462487492835], [15, 427, 'gini', 0.1525781343834144], [4, 365, 'gini', 0.1536334514732058], [20, 395, 'entropy', 0.8643821005257634], [5, 499, 'entropy', 0.9665819179726965], [9, 329, 'gini', 0.5093007319774084], [19, 275, 'entropy', 0.8584681038110599], [16, 503, 'gini', 0.4171328141512621], [10, 513, 'entropy', 0.5611646845802827], [14, 407, 'entropy', 0.09545285053795477], [20, 411, 'gini', 0.6799490718931591], [20, 532, 'gini', 1.0]])\n",
      "                                      dimensions: Space([Integer(low=3, high=20, prior='uniform', transform='normalize'),\n",
      "                                                         Integer(low=200, high=600, prior='uniform', transform='normalize'),\n",
      "                                                         Categorical(categories=('entropy', 'gini'), prior=None),\n",
      "                                                         Real(low=0.01, high=1, prior='uniform', transform='normalize')])\n",
      "                                  base_estimator: GaussianProcessRegressor(kernel=1**2 * Matern(length_scale=[1, 1, 1, 1], nu=2.5),\n",
      "                                                                           n_restarts_optimizer=2, noise='gaussian',\n",
      "                                                                           normalize_y=True, random_state=1192578746)\n",
      "                                         n_calls: 12\n",
      "                                 n_random_starts: 10\n",
      "                                n_initial_points: 10\n",
      "                         initial_point_generator: random\n",
      "                                        acq_func: gp_hedge\n",
      "                                   acq_optimizer: auto\n",
      "                                              x0: None\n",
      "                                              y0: None\n",
      "                                    random_state: RandomState(MT19937)\n",
      "                                         verbose: 10\n",
      "                                        callback: None\n",
      "                                        n_points: 10000\n",
      "                            n_restarts_optimizer: 5\n",
      "                                              xi: 0.01\n",
      "                                           kappa: 1.96\n",
      "                                          n_jobs: 1\n",
      "                                model_queue_size: None\n",
      "                                space_constraint: None\n",
      "               function: base_minimize\n"
     ]
    }
   ],
   "source": [
    "print(result)"
   ]
  },
  {
   "cell_type": "code",
   "execution_count": 12,
   "metadata": {
    "colab": {
     "base_uri": "https://localhost:8080/"
    },
    "id": "aaAmuxd0k_c4",
    "outputId": "a54f51de-3fe8-4608-c222-609e09aaaf1d"
   },
   "outputs": [
    {
     "name": "stdout",
     "output_type": "stream",
     "text": [
      "{'max_depth': 20, 'n_estimators': 395, 'criterion': 'entropy', 'max_features': 0.8643821005257634}\n"
     ]
    }
   ],
   "source": [
    "print(dict(zip(parameters_names, result.x)))"
   ]
  },
  {
   "cell_type": "code",
   "execution_count": 13,
   "metadata": {
    "colab": {
     "base_uri": "https://localhost:8080/"
    },
    "id": "usVm2XFwogWI",
    "outputId": "5113287f-c84c-44dd-bc65-6c6d42fb71e1"
   },
   "outputs": [
    {
     "name": "stdout",
     "output_type": "stream",
     "text": [
      "[20, 395, 'entropy', 0.8643821005257634]\n",
      "0.8643821005257634\n"
     ]
    }
   ],
   "source": [
    "best_parameters = result.x\n",
    "print(best_parameters)\n",
    "print(float(best_parameters[3]))"
   ]
  },
  {
   "cell_type": "code",
   "execution_count": 14,
   "metadata": {
    "id": "fpemVwJ3k_c5"
   },
   "outputs": [],
   "source": [
    "classifier = ensemble.RandomForestClassifier(criterion =best_parameters[2], max_depth = int(best_parameters[0]), n_estimators = int(best_parameters[0]),\n",
    "                                             max_features = float(best_parameters[3]), n_jobs=-1)\n"
   ]
  },
  {
   "cell_type": "code",
   "execution_count": 15,
   "metadata": {
    "colab": {
     "base_uri": "https://localhost:8080/"
    },
    "id": "vR2z4orUk_c5",
    "outputId": "699ccd1d-ed43-46ac-d0d7-34e4837ac0c9"
   },
   "outputs": [
    {
     "name": "stdout",
     "output_type": "stream",
     "text": [
      "scores\n",
      " [0.9   0.89  0.92  0.91  0.91  0.91  0.885 0.875 0.885 0.875]\n",
      "\n",
      "cv values (10,)\n",
      "\n",
      "Score_Mean 0.8960000000000001\n"
     ]
    }
   ],
   "source": [
    "from sklearn.model_selection import cross_val_score\n",
    "score = cross_val_score(classifier,X,y, cv=10)\n",
    "print('scores\\n',score)\n",
    "print('\\ncv values', score.shape)\n",
    "print('\\nScore_Mean', score.mean())"
   ]
  },
  {
   "cell_type": "code",
   "execution_count": 16,
   "metadata": {
    "id": "YcNnjkywk_c6"
   },
   "outputs": [],
   "source": [
    "from sklearn.model_selection import train_test_split"
   ]
  },
  {
   "cell_type": "code",
   "execution_count": 17,
   "metadata": {
    "id": "xZggk5Rgk_c7"
   },
   "outputs": [],
   "source": [
    "x_train , x_test , y_train , y_test = train_test_split(X,y,test_size=0.2)"
   ]
  },
  {
   "cell_type": "code",
   "execution_count": 18,
   "metadata": {
    "colab": {
     "base_uri": "https://localhost:8080/"
    },
    "id": "Zi3a18rxAN3a",
    "outputId": "c13a2dd8-3248-4f46-c956-fd75218f3eb7"
   },
   "outputs": [
    {
     "name": "stdout",
     "output_type": "stream",
     "text": [
      "[1, 2, 3, 4, 5, 6, 7, 8, 9, 10, 11, 12, 13, 14, 15]\n"
     ]
    }
   ],
   "source": [
    "scaling_x = [i for i in range(1, 16, 1)]\n",
    "print(scaling_x)"
   ]
  },
  {
   "cell_type": "code",
   "execution_count": 19,
   "metadata": {
    "colab": {
     "base_uri": "https://localhost:8080/",
     "height": 407
    },
    "id": "G3cX4zOd3tDy",
    "outputId": "ca43720d-f1c9-49d6-a752-e4db84c187f2"
   },
   "outputs": [
    {
     "ename": "ValueError",
     "evalue": "x and y must have same first dimension, but have shapes (15,) and (12,)",
     "output_type": "error",
     "traceback": [
      "\u001b[1;31m---------------------------------------------------------------------------\u001b[0m",
      "\u001b[1;31mValueError\u001b[0m                                Traceback (most recent call last)",
      "Cell \u001b[1;32mIn[19], line 31\u001b[0m\n\u001b[0;32m     29\u001b[0m \u001b[38;5;66;03m# Plotting the learning curves\u001b[39;00m\n\u001b[0;32m     30\u001b[0m plt\u001b[38;5;241m.\u001b[39mfigure(figsize\u001b[38;5;241m=\u001b[39m(\u001b[38;5;241m10\u001b[39m, \u001b[38;5;241m4\u001b[39m))\n\u001b[1;32m---> 31\u001b[0m \u001b[43mplt\u001b[49m\u001b[38;5;241;43m.\u001b[39;49m\u001b[43mplot\u001b[49m\u001b[43m(\u001b[49m\u001b[43mscaling_x\u001b[49m\u001b[43m,\u001b[49m\u001b[43m \u001b[49m\u001b[43mtrain_scores\u001b[49m\u001b[43m,\u001b[49m\u001b[43m \u001b[49m\u001b[43mmarker\u001b[49m\u001b[38;5;241;43m=\u001b[39;49m\u001b[38;5;124;43m'\u001b[39;49m\u001b[38;5;124;43m+\u001b[39;49m\u001b[38;5;124;43m'\u001b[39;49m\u001b[43m,\u001b[49m\u001b[43m \u001b[49m\u001b[43mlabel\u001b[49m\u001b[38;5;241;43m=\u001b[39;49m\u001b[38;5;124;43m'\u001b[39;49m\u001b[38;5;124;43mTraining ROC AUC\u001b[39;49m\u001b[38;5;124;43m'\u001b[39;49m\u001b[43m)\u001b[49m\n\u001b[0;32m     32\u001b[0m plt\u001b[38;5;241m.\u001b[39mplot(scaling_x, val_scores, marker\u001b[38;5;241m=\u001b[39m\u001b[38;5;124m'\u001b[39m\u001b[38;5;124m+\u001b[39m\u001b[38;5;124m'\u001b[39m, label\u001b[38;5;241m=\u001b[39m\u001b[38;5;124m'\u001b[39m\u001b[38;5;124mValidation ROC AUC\u001b[39m\u001b[38;5;124m'\u001b[39m)\n\u001b[0;32m     33\u001b[0m plt\u001b[38;5;241m.\u001b[39mxlabel(\u001b[38;5;124m'\u001b[39m\u001b[38;5;124mNo. of Estimators\u001b[39m\u001b[38;5;124m'\u001b[39m)\n",
      "File \u001b[1;32m~\\AppData\\Local\\Programs\\Python\\Python312\\Lib\\site-packages\\matplotlib\\pyplot.py:3590\u001b[0m, in \u001b[0;36mplot\u001b[1;34m(scalex, scaley, data, *args, **kwargs)\u001b[0m\n\u001b[0;32m   3582\u001b[0m \u001b[38;5;129m@_copy_docstring_and_deprecators\u001b[39m(Axes\u001b[38;5;241m.\u001b[39mplot)\n\u001b[0;32m   3583\u001b[0m \u001b[38;5;28;01mdef\u001b[39;00m \u001b[38;5;21mplot\u001b[39m(\n\u001b[0;32m   3584\u001b[0m     \u001b[38;5;241m*\u001b[39margs: \u001b[38;5;28mfloat\u001b[39m \u001b[38;5;241m|\u001b[39m ArrayLike \u001b[38;5;241m|\u001b[39m \u001b[38;5;28mstr\u001b[39m,\n\u001b[1;32m   (...)\u001b[0m\n\u001b[0;32m   3588\u001b[0m     \u001b[38;5;241m*\u001b[39m\u001b[38;5;241m*\u001b[39mkwargs,\n\u001b[0;32m   3589\u001b[0m ) \u001b[38;5;241m-\u001b[39m\u001b[38;5;241m>\u001b[39m \u001b[38;5;28mlist\u001b[39m[Line2D]:\n\u001b[1;32m-> 3590\u001b[0m     \u001b[38;5;28;01mreturn\u001b[39;00m \u001b[43mgca\u001b[49m\u001b[43m(\u001b[49m\u001b[43m)\u001b[49m\u001b[38;5;241;43m.\u001b[39;49m\u001b[43mplot\u001b[49m\u001b[43m(\u001b[49m\n\u001b[0;32m   3591\u001b[0m \u001b[43m        \u001b[49m\u001b[38;5;241;43m*\u001b[39;49m\u001b[43margs\u001b[49m\u001b[43m,\u001b[49m\n\u001b[0;32m   3592\u001b[0m \u001b[43m        \u001b[49m\u001b[43mscalex\u001b[49m\u001b[38;5;241;43m=\u001b[39;49m\u001b[43mscalex\u001b[49m\u001b[43m,\u001b[49m\n\u001b[0;32m   3593\u001b[0m \u001b[43m        \u001b[49m\u001b[43mscaley\u001b[49m\u001b[38;5;241;43m=\u001b[39;49m\u001b[43mscaley\u001b[49m\u001b[43m,\u001b[49m\n\u001b[0;32m   3594\u001b[0m \u001b[43m        \u001b[49m\u001b[38;5;241;43m*\u001b[39;49m\u001b[38;5;241;43m*\u001b[39;49m\u001b[43m(\u001b[49m\u001b[43m{\u001b[49m\u001b[38;5;124;43m\"\u001b[39;49m\u001b[38;5;124;43mdata\u001b[39;49m\u001b[38;5;124;43m\"\u001b[39;49m\u001b[43m:\u001b[49m\u001b[43m \u001b[49m\u001b[43mdata\u001b[49m\u001b[43m}\u001b[49m\u001b[43m \u001b[49m\u001b[38;5;28;43;01mif\u001b[39;49;00m\u001b[43m \u001b[49m\u001b[43mdata\u001b[49m\u001b[43m \u001b[49m\u001b[38;5;129;43;01mis\u001b[39;49;00m\u001b[43m \u001b[49m\u001b[38;5;129;43;01mnot\u001b[39;49;00m\u001b[43m \u001b[49m\u001b[38;5;28;43;01mNone\u001b[39;49;00m\u001b[43m \u001b[49m\u001b[38;5;28;43;01melse\u001b[39;49;00m\u001b[43m \u001b[49m\u001b[43m{\u001b[49m\u001b[43m}\u001b[49m\u001b[43m)\u001b[49m\u001b[43m,\u001b[49m\n\u001b[0;32m   3595\u001b[0m \u001b[43m        \u001b[49m\u001b[38;5;241;43m*\u001b[39;49m\u001b[38;5;241;43m*\u001b[39;49m\u001b[43mkwargs\u001b[49m\u001b[43m,\u001b[49m\n\u001b[0;32m   3596\u001b[0m \u001b[43m    \u001b[49m\u001b[43m)\u001b[49m\n",
      "File \u001b[1;32m~\\AppData\\Local\\Programs\\Python\\Python312\\Lib\\site-packages\\matplotlib\\axes\\_axes.py:1724\u001b[0m, in \u001b[0;36mAxes.plot\u001b[1;34m(self, scalex, scaley, data, *args, **kwargs)\u001b[0m\n\u001b[0;32m   1481\u001b[0m \u001b[38;5;250m\u001b[39m\u001b[38;5;124;03m\"\"\"\u001b[39;00m\n\u001b[0;32m   1482\u001b[0m \u001b[38;5;124;03mPlot y versus x as lines and/or markers.\u001b[39;00m\n\u001b[0;32m   1483\u001b[0m \n\u001b[1;32m   (...)\u001b[0m\n\u001b[0;32m   1721\u001b[0m \u001b[38;5;124;03m(``'green'``) or hex strings (``'#008000'``).\u001b[39;00m\n\u001b[0;32m   1722\u001b[0m \u001b[38;5;124;03m\"\"\"\u001b[39;00m\n\u001b[0;32m   1723\u001b[0m kwargs \u001b[38;5;241m=\u001b[39m cbook\u001b[38;5;241m.\u001b[39mnormalize_kwargs(kwargs, mlines\u001b[38;5;241m.\u001b[39mLine2D)\n\u001b[1;32m-> 1724\u001b[0m lines \u001b[38;5;241m=\u001b[39m [\u001b[38;5;241m*\u001b[39m\u001b[38;5;28mself\u001b[39m\u001b[38;5;241m.\u001b[39m_get_lines(\u001b[38;5;28mself\u001b[39m, \u001b[38;5;241m*\u001b[39margs, data\u001b[38;5;241m=\u001b[39mdata, \u001b[38;5;241m*\u001b[39m\u001b[38;5;241m*\u001b[39mkwargs)]\n\u001b[0;32m   1725\u001b[0m \u001b[38;5;28;01mfor\u001b[39;00m line \u001b[38;5;129;01min\u001b[39;00m lines:\n\u001b[0;32m   1726\u001b[0m     \u001b[38;5;28mself\u001b[39m\u001b[38;5;241m.\u001b[39madd_line(line)\n",
      "File \u001b[1;32m~\\AppData\\Local\\Programs\\Python\\Python312\\Lib\\site-packages\\matplotlib\\axes\\_base.py:303\u001b[0m, in \u001b[0;36m_process_plot_var_args.__call__\u001b[1;34m(self, axes, data, *args, **kwargs)\u001b[0m\n\u001b[0;32m    301\u001b[0m     this \u001b[38;5;241m+\u001b[39m\u001b[38;5;241m=\u001b[39m args[\u001b[38;5;241m0\u001b[39m],\n\u001b[0;32m    302\u001b[0m     args \u001b[38;5;241m=\u001b[39m args[\u001b[38;5;241m1\u001b[39m:]\n\u001b[1;32m--> 303\u001b[0m \u001b[38;5;28;01myield from\u001b[39;00m \u001b[38;5;28;43mself\u001b[39;49m\u001b[38;5;241;43m.\u001b[39;49m\u001b[43m_plot_args\u001b[49m\u001b[43m(\u001b[49m\n\u001b[0;32m    304\u001b[0m \u001b[43m    \u001b[49m\u001b[43maxes\u001b[49m\u001b[43m,\u001b[49m\u001b[43m \u001b[49m\u001b[43mthis\u001b[49m\u001b[43m,\u001b[49m\u001b[43m \u001b[49m\u001b[43mkwargs\u001b[49m\u001b[43m,\u001b[49m\u001b[43m \u001b[49m\u001b[43mambiguous_fmt_datakey\u001b[49m\u001b[38;5;241;43m=\u001b[39;49m\u001b[43mambiguous_fmt_datakey\u001b[49m\u001b[43m)\u001b[49m\n",
      "File \u001b[1;32m~\\AppData\\Local\\Programs\\Python\\Python312\\Lib\\site-packages\\matplotlib\\axes\\_base.py:499\u001b[0m, in \u001b[0;36m_process_plot_var_args._plot_args\u001b[1;34m(self, axes, tup, kwargs, return_kwargs, ambiguous_fmt_datakey)\u001b[0m\n\u001b[0;32m    496\u001b[0m     axes\u001b[38;5;241m.\u001b[39myaxis\u001b[38;5;241m.\u001b[39mupdate_units(y)\n\u001b[0;32m    498\u001b[0m \u001b[38;5;28;01mif\u001b[39;00m x\u001b[38;5;241m.\u001b[39mshape[\u001b[38;5;241m0\u001b[39m] \u001b[38;5;241m!=\u001b[39m y\u001b[38;5;241m.\u001b[39mshape[\u001b[38;5;241m0\u001b[39m]:\n\u001b[1;32m--> 499\u001b[0m     \u001b[38;5;28;01mraise\u001b[39;00m \u001b[38;5;167;01mValueError\u001b[39;00m(\u001b[38;5;124mf\u001b[39m\u001b[38;5;124m\"\u001b[39m\u001b[38;5;124mx and y must have same first dimension, but \u001b[39m\u001b[38;5;124m\"\u001b[39m\n\u001b[0;32m    500\u001b[0m                      \u001b[38;5;124mf\u001b[39m\u001b[38;5;124m\"\u001b[39m\u001b[38;5;124mhave shapes \u001b[39m\u001b[38;5;132;01m{\u001b[39;00mx\u001b[38;5;241m.\u001b[39mshape\u001b[38;5;132;01m}\u001b[39;00m\u001b[38;5;124m and \u001b[39m\u001b[38;5;132;01m{\u001b[39;00my\u001b[38;5;241m.\u001b[39mshape\u001b[38;5;132;01m}\u001b[39;00m\u001b[38;5;124m\"\u001b[39m)\n\u001b[0;32m    501\u001b[0m \u001b[38;5;28;01mif\u001b[39;00m x\u001b[38;5;241m.\u001b[39mndim \u001b[38;5;241m>\u001b[39m \u001b[38;5;241m2\u001b[39m \u001b[38;5;129;01mor\u001b[39;00m y\u001b[38;5;241m.\u001b[39mndim \u001b[38;5;241m>\u001b[39m \u001b[38;5;241m2\u001b[39m:\n\u001b[0;32m    502\u001b[0m     \u001b[38;5;28;01mraise\u001b[39;00m \u001b[38;5;167;01mValueError\u001b[39;00m(\u001b[38;5;124mf\u001b[39m\u001b[38;5;124m\"\u001b[39m\u001b[38;5;124mx and y can be no greater than 2D, but have \u001b[39m\u001b[38;5;124m\"\u001b[39m\n\u001b[0;32m    503\u001b[0m                      \u001b[38;5;124mf\u001b[39m\u001b[38;5;124m\"\u001b[39m\u001b[38;5;124mshapes \u001b[39m\u001b[38;5;132;01m{\u001b[39;00mx\u001b[38;5;241m.\u001b[39mshape\u001b[38;5;132;01m}\u001b[39;00m\u001b[38;5;124m and \u001b[39m\u001b[38;5;132;01m{\u001b[39;00my\u001b[38;5;241m.\u001b[39mshape\u001b[38;5;132;01m}\u001b[39;00m\u001b[38;5;124m\"\u001b[39m)\n",
      "\u001b[1;31mValueError\u001b[0m: x and y must have same first dimension, but have shapes (15,) and (12,)"
     ]
    },
    {
     "data": {
      "image/png": "[encoded data removed]",
      "text/plain": [
       "<Figure size 1000x400 with 1 Axes>"
      ]
     },
     "metadata": {},
     "output_type": "display_data"
    }
   ],
   "source": [
    "from sklearn.ensemble import RandomForestClassifier\n",
    "from sklearn import metrics\n",
    "import numpy as np\n",
    "from sklearn.metrics import roc_auc_score\n",
    "import matplotlib.pyplot as plt\n",
    "\n",
    "train_scores = []\n",
    "val_scores = []\n",
    "for param in list_of_all_parameters:\n",
    "    # Initialize classifier with current n_estimators\n",
    "    classifier = RandomForestClassifier(criterion =param[2], max_depth = int(param[0]), n_estimators = int(param[0]),\n",
    "                                             max_features = float(param[3]), n_jobs=-1, random_state=42)\n",
    "\n",
    "    # Train the classifier\n",
    "    classifier.fit(x_train, y_train)\n",
    "\n",
    "    # Predict probabilities for ROC AUC calculation\n",
    "    y_train_score = classifier.predict_proba(x_train)\n",
    "    y_val_score = classifier.predict_proba(x_test)\n",
    "\n",
    "    # Compute ROC AUC scores\n",
    "    train_roc_auc = roc_auc_score(y_train, y_train_score, multi_class='ovr')\n",
    "    val_roc_auc = roc_auc_score(y_test, y_val_score, multi_class='ovr')\n",
    "\n",
    "    # Store scores\n",
    "    train_scores.append(train_roc_auc)\n",
    "    val_scores.append(val_roc_auc)\n",
    "    roc_score_BO = val_scores\n",
    "# Plotting the learning curves\n",
    "plt.figure(figsize=(10, 4))\n",
    "plt.plot(scaling_x, train_scores, marker='+', label='Training ROC AUC')\n",
    "plt.plot(scaling_x, val_scores, marker='+', label='Validation ROC AUC')\n",
    "plt.xlabel('No. of Estimators')\n",
    "plt.ylabel('ROC AUC Score')\n",
    "plt.title('No. of Estimators vs ROC AUC Score')\n",
    "plt.legend()\n",
    "plt.grid(True)\n",
    "plt.tight_layout()\n",
    "plt.show()\n",
    "\n"
   ]
  },
  {
   "cell_type": "code",
   "execution_count": null,
   "metadata": {
    "id": "iQbGej16k_c7"
   },
   "outputs": [],
   "source": [
    "from sklearn.ensemble import RandomForestClassifier\n",
    "classifier = RandomForestClassifier(random_state=42)"
   ]
  },
  {
   "cell_type": "code",
   "execution_count": null,
   "metadata": {
    "colab": {
     "base_uri": "https://localhost:8080/"
    },
    "id": "3aeU9T7Mk_c8",
    "outputId": "48c65d2c-e687-41cc-8448-e3b279096507"
   },
   "outputs": [],
   "source": [
    "from sklearn import metrics\n",
    "import numpy as np\n",
    "from sklearn.metrics import roc_auc_score\n",
    "\n",
    "# Example data (replace with your actual data)\n",
    "classifier.fit(x_train, y_train)\n",
    "\n",
    "y_score =  classifier.predict_proba(x_test)  # Predicted probabilities for all classes\n",
    "roc_auc = roc_auc_score(y_test, y_score, multi_class='ovr')\n",
    "print(\"ROC AUC (One-vs-Rest):\", roc_auc)"
   ]
  },
  {
   "cell_type": "markdown",
   "metadata": {
    "id": "slQc3fxdk_c9"
   },
   "source": [
    "# Random Forest"
   ]
  },
  {
   "cell_type": "code",
   "execution_count": null,
   "metadata": {
    "id": "3uEeEPMzk_c-"
   },
   "outputs": [],
   "source": [
    "import pandas as pd\n",
    "import numpy as np\n",
    "import matplotlib.pyplot as plt\n",
    "import seaborn as sns\n",
    "import plotly.express as px\n",
    "from plotly.offline import iplot , plot\n",
    "from plotly.subplots import make_subplots\n",
    "from sklearn.model_selection import train_test_split , GridSearchCV\n",
    "from sklearn.metrics import ConfusionMatrixDisplay\n",
    "from sklearn.preprocessing import MinMaxScaler\n",
    "from sklearn.svm import SVC\n",
    "from sklearn.ensemble import RandomForestClassifier\n",
    "from sklearn.linear_model import LogisticRegression\n",
    "import warnings\n",
    "warnings.filterwarnings('ignore')"
   ]
  },
  {
   "cell_type": "code",
   "execution_count": null,
   "metadata": {
    "id": "odHC5C5ok_c-"
   },
   "outputs": [],
   "source": [
    "x_train , x_test , y_train , y_test = train_test_split(X,y,test_size=0.2)"
   ]
  },
  {
   "cell_type": "code",
   "execution_count": null,
   "metadata": {
    "colab": {
     "base_uri": "https://localhost:8080/",
     "height": 74
    },
    "id": "gP06-k3Mk_c-",
    "outputId": "2ed0b647-3eb6-4e41-855a-fc4eb9b3bcaf"
   },
   "outputs": [],
   "source": [
    "model_RFC = RandomForestClassifier(n_estimators=10,random_state=42)\n",
    "model_RFC.fit(x_train,y_train)"
   ]
  },
  {
   "cell_type": "code",
   "execution_count": null,
   "metadata": {
    "id": "iyor_zITk_c-"
   },
   "outputs": [],
   "source": [
    "from sklearn import metrics\n",
    "from sklearn.model_selection import train_test_split\n",
    "from sklearn.ensemble import RandomForestClassifier"
   ]
  },
  {
   "cell_type": "code",
   "execution_count": null,
   "metadata": {
    "colab": {
     "base_uri": "https://localhost:8080/"
    },
    "id": "891QMHSgk_c_",
    "outputId": "4bc6986f-53f6-47b6-a1e2-b66330520dc7"
   },
   "outputs": [],
   "source": [
    "from sklearn import metrics\n",
    "import numpy as np\n",
    "from sklearn.metrics import roc_auc_score\n",
    "\n",
    "# Example data (replace with your actual data)\n",
    "\n",
    "y_score = model_RFC.predict_proba(x_test)  # Predicted probabilities for all classes\n",
    "roc_auc = roc_auc_score(y_test, y_score, multi_class='ovr')\n",
    "print(\"ROC AUC (One-vs-Rest):\", roc_auc)\n"
   ]
  },
  {
   "cell_type": "code",
   "execution_count": null,
   "metadata": {
    "colab": {
     "base_uri": "https://localhost:8080/"
    },
    "id": "HMoSrIxOk_c_",
    "outputId": "440e7a98-19ab-46dc-f7ea-1f2b435265a2"
   },
   "outputs": [],
   "source": [
    "# Initialize the Random Forest classifier\n",
    "\n",
    "\n",
    "# Perform 10-fold cross-validation\n",
    "score = cross_val_score(model_RFC, X, y, cv=10)\n",
    "\n",
    "# Print the scores\n",
    "print('scores\\n', score)\n",
    "\n",
    "# Print the shape of the scores array\n",
    "print('\\ncv values', score.shape)\n",
    "\n",
    "# Print the mean score\n",
    "print('\\nScore_Mean', score.mean())"
   ]
  },
  {
   "cell_type": "markdown",
   "metadata": {
    "id": "yqmxgxPCk_c_"
   },
   "source": [
    "# hyper opt"
   ]
  },
  {
   "cell_type": "code",
   "execution_count": null,
   "metadata": {
    "id": "KTGsUZ7Ek_dA"
   },
   "outputs": [],
   "source": [
    "from hyperopt import hp, fmin, tpe, Trials\n",
    "from hyperopt.pyll.base import scope"
   ]
  },
  {
   "cell_type": "code",
   "execution_count": null,
   "metadata": {
    "id": "eGYj76a8k_dA"
   },
   "outputs": [],
   "source": [
    "# Optimization is finding the input value or set of values to an objective function that yields the lowest output value, called a “loss”.\n",
    "def optimize(params, x, y, list_of_all_params_hyperopt):\n",
    "    list_of_all_params_hyperopt.append(list(params.values()));\n",
    "    model = ensemble.RandomForestClassifier(**params)\n",
    "    kf = model_selection.KFold(n_splits=5)\n",
    "    accuracies = []\n",
    "    for idx in kf.split(X=x, y=y):\n",
    "        train_idx, test_idx = idx[0], idx[1]\n",
    "        xtrain = x[train_idx]\n",
    "        ytrain = y[train_idx]\n",
    "\n",
    "        xtest = x[test_idx]\n",
    "        ytest = y[test_idx]\n",
    "\n",
    "        model.fit(xtrain, ytrain)\n",
    "        preds = model.predict(xtest)\n",
    "        fold_acc = metrics.accuracy_score(ytest, preds)\n",
    "        accuracies.append(fold_acc)\n",
    "\n",
    "    return -1.0 * np.mean(accuracies)"
   ]
  },
  {
   "cell_type": "code",
   "execution_count": null,
   "metadata": {
    "colab": {
     "base_uri": "https://localhost:8080/"
    },
    "id": "IgNvva3nk_dO",
    "outputId": "8448f46f-cb5e-4d6a-d7eb-83607a0bd444"
   },
   "outputs": [],
   "source": [
    "'''There is also a few quantized versions of those functions, which rounds the generated values at each step of “q”:\n",
    "    ∙ hp.quniform(label, low, high, q)\n",
    "    ∙ hp.qloguniform(label, low, high, q) '''\n",
    "\n",
    "param_space = {\n",
    "    \"max_depth\": scope.int(hp.quniform(\"max_depth\", 3, 15, 1)),\n",
    "    \"n_estimators\": scope.int(hp.quniform(\"n_estimators\", 100, 600, 1)),\n",
    "    \"criterion\": hp.choice(\"criterion\", [\"gini\", \"entropy\"]),\n",
    "    \"max_features\": hp.uniform(\"max_features\", 0.01, 1)\n",
    "}\n",
    "\n",
    "list_of_all_params_hyperopt=[]\n",
    "optimization_function = partial(\n",
    "    optimize,\n",
    "    x=X,\n",
    "    y=y,\n",
    "    list_of_all_params_hyperopt=list_of_all_params_hyperopt\n",
    ")\n",
    "\n",
    "trials = Trials() # It would be nice to see exactly what is happening inside the hyperopt black box. The Trials object allows us to do just that.\n",
    "\n",
    "result = fmin(\n",
    "    fn=optimization_function,\n",
    "    space=param_space,\n",
    "    algo=tpe.suggest,\n",
    "    max_evals=15,\n",
    "    trials=trials,\n",
    ")\n",
    "\n",
    "print(result)"
   ]
  },
  {
   "cell_type": "code",
   "execution_count": null,
   "metadata": {
    "colab": {
     "base_uri": "https://localhost:8080/"
    },
    "id": "2pBBO496UPEV",
    "outputId": "c19c3fd8-5222-4432-905b-e771d4045420"
   },
   "outputs": [],
   "source": [
    "print(list_of_all_params_hyperopt)"
   ]
  },
  {
   "cell_type": "code",
   "execution_count": null,
   "metadata": {
    "colab": {
     "base_uri": "https://localhost:8080/"
    },
    "id": "aLJ7NyLTk_dP",
    "outputId": "45b77554-ab2a-454f-c398-dc4ed9755de5"
   },
   "outputs": [],
   "source": [
    "# Print the result  hyperparameters\n",
    "print(\"result  hyperparameters:\", result)"
   ]
  },
  {
   "cell_type": "code",
   "execution_count": null,
   "metadata": {
    "id": "o_EeN9A_k_dP"
   },
   "outputs": [],
   "source": [
    "# Train the model with the result  hyperparameters\n",
    "best_parameters = {\n",
    "    'max_depth': int(result['max_depth']),\n",
    "    'n_estimators': int(result['n_estimators']),\n",
    "    'criterion': ['gini', 'entropy'][result['criterion']],\n",
    "    'max_features': result['max_features']\n",
    "}\n"
   ]
  },
  {
   "cell_type": "code",
   "execution_count": null,
   "metadata": {
    "id": "QZ4yA-kkk_dQ"
   },
   "outputs": [],
   "source": [
    "# Train the model with the best hyperparameters\n",
    "best_clf = RandomForestClassifier(**best_parameters)\n",
    "cross_val_scores = cross_val_score(best_clf, X, y, scoring='accuracy', cv=5)"
   ]
  },
  {
   "cell_type": "code",
   "execution_count": null,
   "metadata": {
    "colab": {
     "base_uri": "https://localhost:8080/"
    },
    "id": "_LLV-yNXk_dQ",
    "outputId": "b1ebe742-4903-4d1e-8715-69ee42598a30"
   },
   "outputs": [],
   "source": [
    "# Example data (replace with your actual data)\n",
    "best_clf.fit(x_train, y_train)\n",
    "\n",
    "y_score =  best_clf.predict_proba(x_test)  # Predicted probabilities for all classes\n",
    "roc_auc = roc_auc_score(y_test, y_score, multi_class='ovr')\n",
    "print(\"ROC AUC (One-vs-Rest):\", roc_auc)"
   ]
  },
  {
   "cell_type": "code",
   "execution_count": null,
   "metadata": {
    "colab": {
     "base_uri": "https://localhost:8080/"
    },
    "id": "a73l2sONk_dQ",
    "outputId": "75588bff-e229-49a6-9098-a5f5f7cd1e03"
   },
   "outputs": [],
   "source": [
    "\n",
    "# Print the cross-validation scores\n",
    "print(\"Cross-validation scores:\", cross_val_scores)\n",
    "print(\"Mean cross-validation score:\", cross_val_scores.mean())"
   ]
  },
  {
   "cell_type": "code",
   "execution_count": null,
   "metadata": {
    "colab": {
     "base_uri": "https://localhost:8080/",
     "height": 407
    },
    "id": "aRYZ6-dUk_dR",
    "outputId": "c2bdbb6a-00a3-475a-f1db-90cc82f18a9b"
   },
   "outputs": [],
   "source": [
    "from sklearn.ensemble import RandomForestClassifier\n",
    "from sklearn import metrics\n",
    "import numpy as np\n",
    "from sklearn.metrics import roc_auc_score\n",
    "import matplotlib.pyplot as plt\n",
    "\n",
    "train_scores = []\n",
    "val_scores = []\n",
    "for para in list_of_all_params_hyperopt:\n",
    "    # Initialize classifier with current n_estimators\n",
    "    classifier = RandomForestClassifier(criterion =para[0], max_depth = int(para[1]), n_estimators = int(para[3]),\n",
    "                                             max_features = float(para[2]), n_jobs=-1, random_state=42)\n",
    "\n",
    "    # Train the classifier\n",
    "    classifier.fit(x_train, y_train)\n",
    "\n",
    "    # Predict probabilities for ROC AUC calculation\n",
    "    y_train_score = classifier.predict_proba(x_train)\n",
    "    y_val_score = classifier.predict_proba(x_test)\n",
    "\n",
    "    # Compute ROC AUC scores\n",
    "    train_roc_auc = roc_auc_score(y_train, y_train_score, multi_class='ovr')\n",
    "    val_roc_auc = roc_auc_score(y_test, y_val_score, multi_class='ovr')\n",
    "\n",
    "    # Store scores\n",
    "    train_scores.append(train_roc_auc)\n",
    "    val_scores.append(val_roc_auc)\n",
    "    roc_score_hyperopt = val_scores\n",
    "# Plotting the learning curves\n",
    "plt.figure(figsize=(10, 4))\n",
    "plt.plot(scaling_x, train_scores, marker='+', label='Training ROC AUC')\n",
    "plt.plot(scaling_x, val_scores, marker='+', label='Validation ROC AUC')\n",
    "plt.xlabel('Number of Estimators')\n",
    "plt.ylabel('ROC AUC Score')\n",
    "plt.title('Number of Estimators vs ROC AUC Score')\n",
    "plt.legend()\n",
    "plt.grid(True)\n",
    "plt.tight_layout()\n",
    "plt.show()\n",
    "\n"
   ]
  },
  {
   "cell_type": "code",
   "execution_count": null,
   "metadata": {
    "colab": {
     "base_uri": "https://localhost:8080/",
     "height": 407
    },
    "id": "JtYUGx-aZVoY",
    "outputId": "a98564e9-4cef-499e-c29f-cebcc9186a36"
   },
   "outputs": [],
   "source": [
    "plt.figure(figsize=(10, 4))\n",
    "plt.plot(scaling_x, roc_score_hyperopt, marker='+', label='ROC AUC Hyperopt')\n",
    "plt.plot(scaling_x, roc_score_BO, marker='+', label='ROC AUC BO')\n",
    "plt.xlabel('Number of Estimators')\n",
    "plt.ylabel('ROC AUC Score')\n",
    "plt.title('Number of Estimators vs ROC AUC Score')\n",
    "plt.legend()\n",
    "plt.grid(True)\n",
    "plt.tight_layout()\n",
    "plt.show()"
   ]
  }
 ],
 "metadata": {
  "colab": {
   "provenance": []
  },
  "kernelspec": {
   "display_name": "Python 3 (ipykernel)",
   "language": "python",
   "name": "python3"
  },
  "language_info": {
   "codemirror_mode": {
    "name": "ipython",
    "version": 3
   },
   "file_extension": ".py",
   "mimetype": "text/x-python",
   "name": "python",
   "nbconvert_exporter": "python",
   "pygments_lexer": "ipython3",
   "version": "3.12.3"
  }
 },
 "nbformat": 4,
 "nbformat_minor": 4
}
